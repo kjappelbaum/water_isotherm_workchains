{
 "cells": [
  {
   "cell_type": "code",
   "execution_count": 22,
   "metadata": {},
   "outputs": [],
   "source": [
    "import pandas as pd"
   ]
  },
  {
   "cell_type": "markdown",
   "metadata": {},
   "source": [
    "## Clean up the raw data"
   ]
  },
  {
   "cell_type": "code",
   "execution_count": 23,
   "metadata": {},
   "outputs": [],
   "source": [
    "df = pd.read_pickle('results.pkl')"
   ]
  },
  {
   "cell_type": "code",
   "execution_count": 24,
   "metadata": {},
   "outputs": [
    {
     "data": {
      "text/html": [
       "<div>\n",
       "<style scoped>\n",
       "    .dataframe tbody tr th:only-of-type {\n",
       "        vertical-align: middle;\n",
       "    }\n",
       "\n",
       "    .dataframe tbody tr th {\n",
       "        vertical-align: top;\n",
       "    }\n",
       "\n",
       "    .dataframe thead th {\n",
       "        text-align: right;\n",
       "    }\n",
       "</style>\n",
       "<table border=\"1\" class=\"dataframe\">\n",
       "  <thead>\n",
       "    <tr style=\"text-align: right;\">\n",
       "      <th></th>\n",
       "      <th>name</th>\n",
       "      <th>accuracy</th>\n",
       "      <th>sa_samples</th>\n",
       "      <th>block_samples</th>\n",
       "      <th>volpo_samples</th>\n",
       "      <th>gasa</th>\n",
       "      <th>vasa</th>\n",
       "      <th>gnasa</th>\n",
       "      <th>gpoav</th>\n",
       "      <th>vnasa</th>\n",
       "      <th>...</th>\n",
       "      <th>ads_ads_coulomb_energy_average</th>\n",
       "      <th>enthalpy_of_adsorption_average</th>\n",
       "      <th>host_ads_coulomb_energy_average</th>\n",
       "      <th>conversion_factor_molec_uc_to_gr_gr</th>\n",
       "      <th>conversion_factor_molec_uc_to_mol_kg</th>\n",
       "      <th>conversion_factor_molec_uc_to_cm3stp_cm3</th>\n",
       "      <th>wc_uuid</th>\n",
       "      <th>System</th>\n",
       "      <th>Component</th>\n",
       "      <th>GeneralSettings</th>\n",
       "    </tr>\n",
       "  </thead>\n",
       "  <tbody>\n",
       "    <tr>\n",
       "      <th>0</th>\n",
       "      <td>btdd_cl_hex_cellopt</td>\n",
       "      <td>DEF</td>\n",
       "      <td>100000.0</td>\n",
       "      <td>100.0</td>\n",
       "      <td>100000.0</td>\n",
       "      <td>{'opc3': 2515.07}</td>\n",
       "      <td>{'opc3': 1616.37}</td>\n",
       "      <td>{'opc3': 0.0}</td>\n",
       "      <td>{'opc3': 1.1806}</td>\n",
       "      <td>{'opc3': 0.0}</td>\n",
       "      <td>...</td>\n",
       "      <td>[-17253.864639043, -9906.1125814774, -10366.80...</td>\n",
       "      <td>[-57974978.34194, -13312483.43937, -9995364.87...</td>\n",
       "      <td>[-48125247.078156, -11453496.906323, -11885523...</td>\n",
       "      <td>{'opc3': 2.2118736034}</td>\n",
       "      <td>{'opc3': 0.1227768245}</td>\n",
       "      <td>{'opc3': 1.7685725811}</td>\n",
       "      <td>3138c0b7-fdb3-4652-b3f2-6a482e4c89fd</td>\n",
       "      <td>NaN</td>\n",
       "      <td>NaN</td>\n",
       "      <td>NaN</td>\n",
       "    </tr>\n",
       "    <tr>\n",
       "      <th>1</th>\n",
       "      <td>btdd_cl_hex_cellopt</td>\n",
       "      <td>NaN</td>\n",
       "      <td>NaN</td>\n",
       "      <td>NaN</td>\n",
       "      <td>NaN</td>\n",
       "      <td>{'opc3': 2515.07}</td>\n",
       "      <td>{'opc3': 1616.37}</td>\n",
       "      <td>{'opc3': 0.0}</td>\n",
       "      <td>{'opc3': 1.1806}</td>\n",
       "      <td>{'opc3': 0.0}</td>\n",
       "      <td>...</td>\n",
       "      <td>[-17253.864639043, -9906.1125814774, -10366.80...</td>\n",
       "      <td>[-57974978.34194, -13312483.43937, -9995364.87...</td>\n",
       "      <td>[-48125247.078156, -11453496.906323, -11885523...</td>\n",
       "      <td>{'opc3': 2.2118736034}</td>\n",
       "      <td>{'opc3': 0.1227768245}</td>\n",
       "      <td>{'opc3': 1.7685725811}</td>\n",
       "      <td>3138c0b7-fdb3-4652-b3f2-6a482e4c89fd</td>\n",
       "      <td>{'btdd_cl_hex_cellopt': {'type': 'Framework', ...</td>\n",
       "      <td>{'comp1': {}}</td>\n",
       "      <td>{'CutOff': 13.0, 'Forcefield': 'DREIDING-UFF-O...</td>\n",
       "    </tr>\n",
       "    <tr>\n",
       "      <th>2</th>\n",
       "      <td>btdd_cl_hex_cellopt</td>\n",
       "      <td>DEF</td>\n",
       "      <td>100000.0</td>\n",
       "      <td>100.0</td>\n",
       "      <td>100000.0</td>\n",
       "      <td>{'opc': 2515.07}</td>\n",
       "      <td>{'opc': 1616.37}</td>\n",
       "      <td>{'opc': 0.0}</td>\n",
       "      <td>{'opc': 1.1806}</td>\n",
       "      <td>{'opc': 0.0}</td>\n",
       "      <td>...</td>\n",
       "      <td>[-0.020261186982514, -7.0403159065129, -0.0096...</td>\n",
       "      <td>[-1897.95758, -2456.04568, -1806.48732, -2037....</td>\n",
       "      <td>[-1.3741773467202, -4.4606084937036, -1.066608...</td>\n",
       "      <td>{'opc': 2.2118736034}</td>\n",
       "      <td>{'opc': 0.1227768245}</td>\n",
       "      <td>{'opc': 1.7685725811}</td>\n",
       "      <td>da3e3167-b189-45b1-a1c8-f989671a4f81</td>\n",
       "      <td>NaN</td>\n",
       "      <td>NaN</td>\n",
       "      <td>NaN</td>\n",
       "    </tr>\n",
       "    <tr>\n",
       "      <th>3</th>\n",
       "      <td>btdd_cl_hex_cellopt</td>\n",
       "      <td>NaN</td>\n",
       "      <td>NaN</td>\n",
       "      <td>NaN</td>\n",
       "      <td>NaN</td>\n",
       "      <td>{'opc': 2515.07}</td>\n",
       "      <td>{'opc': 1616.37}</td>\n",
       "      <td>{'opc': 0.0}</td>\n",
       "      <td>{'opc': 1.1806}</td>\n",
       "      <td>{'opc': 0.0}</td>\n",
       "      <td>...</td>\n",
       "      <td>[-0.020261186982514, -7.0403159065129, -0.0096...</td>\n",
       "      <td>[-1897.95758, -2456.04568, -1806.48732, -2037....</td>\n",
       "      <td>[-1.3741773467202, -4.4606084937036, -1.066608...</td>\n",
       "      <td>{'opc': 2.2118736034}</td>\n",
       "      <td>{'opc': 0.1227768245}</td>\n",
       "      <td>{'opc': 1.7685725811}</td>\n",
       "      <td>da3e3167-b189-45b1-a1c8-f989671a4f81</td>\n",
       "      <td>{'btdd_cl_hex_cellopt': {'type': 'Framework', ...</td>\n",
       "      <td>{'comp1': {}}</td>\n",
       "      <td>{'CutOff': 13.0, 'Forcefield': 'DREIDING-UFF-O...</td>\n",
       "    </tr>\n",
       "    <tr>\n",
       "      <th>4</th>\n",
       "      <td>btdd_cl_hex_cellopt</td>\n",
       "      <td>DEF</td>\n",
       "      <td>100000.0</td>\n",
       "      <td>100.0</td>\n",
       "      <td>100000.0</td>\n",
       "      <td>{'spce': 2515.07}</td>\n",
       "      <td>{'spce': 1616.37}</td>\n",
       "      <td>{'spce': 0.0}</td>\n",
       "      <td>{'spce': 1.1806}</td>\n",
       "      <td>{'spce': 0.0}</td>\n",
       "      <td>...</td>\n",
       "      <td>[-8.73018816495e-06, 0.0, -8.73018816495e-06, ...</td>\n",
       "      <td>[None, None, None, None, None, None, None, Non...</td>\n",
       "      <td>[-0.0050089662458024, 0.0, -0.0048151560685405...</td>\n",
       "      <td>{'spce': 2.2118736034}</td>\n",
       "      <td>{'spce': 0.1227768245}</td>\n",
       "      <td>{'spce': 1.7685725811}</td>\n",
       "      <td>08f14ca9-3a46-42a9-8820-3ee763848f7e</td>\n",
       "      <td>NaN</td>\n",
       "      <td>NaN</td>\n",
       "      <td>NaN</td>\n",
       "    </tr>\n",
       "  </tbody>\n",
       "</table>\n",
       "<p>5 rows × 63 columns</p>\n",
       "</div>"
      ],
      "text/plain": [
       "                  name accuracy  sa_samples  block_samples  volpo_samples  \\\n",
       "0  btdd_cl_hex_cellopt      DEF    100000.0          100.0       100000.0   \n",
       "1  btdd_cl_hex_cellopt      NaN         NaN            NaN            NaN   \n",
       "2  btdd_cl_hex_cellopt      DEF    100000.0          100.0       100000.0   \n",
       "3  btdd_cl_hex_cellopt      NaN         NaN            NaN            NaN   \n",
       "4  btdd_cl_hex_cellopt      DEF    100000.0          100.0       100000.0   \n",
       "\n",
       "                gasa               vasa          gnasa             gpoav  \\\n",
       "0  {'opc3': 2515.07}  {'opc3': 1616.37}  {'opc3': 0.0}  {'opc3': 1.1806}   \n",
       "1  {'opc3': 2515.07}  {'opc3': 1616.37}  {'opc3': 0.0}  {'opc3': 1.1806}   \n",
       "2   {'opc': 2515.07}   {'opc': 1616.37}   {'opc': 0.0}   {'opc': 1.1806}   \n",
       "3   {'opc': 2515.07}   {'opc': 1616.37}   {'opc': 0.0}   {'opc': 1.1806}   \n",
       "4  {'spce': 2515.07}  {'spce': 1616.37}  {'spce': 0.0}  {'spce': 1.1806}   \n",
       "\n",
       "           vnasa  ...                     ads_ads_coulomb_energy_average  \\\n",
       "0  {'opc3': 0.0}  ...  [-17253.864639043, -9906.1125814774, -10366.80...   \n",
       "1  {'opc3': 0.0}  ...  [-17253.864639043, -9906.1125814774, -10366.80...   \n",
       "2   {'opc': 0.0}  ...  [-0.020261186982514, -7.0403159065129, -0.0096...   \n",
       "3   {'opc': 0.0}  ...  [-0.020261186982514, -7.0403159065129, -0.0096...   \n",
       "4  {'spce': 0.0}  ...  [-8.73018816495e-06, 0.0, -8.73018816495e-06, ...   \n",
       "\n",
       "                      enthalpy_of_adsorption_average  \\\n",
       "0  [-57974978.34194, -13312483.43937, -9995364.87...   \n",
       "1  [-57974978.34194, -13312483.43937, -9995364.87...   \n",
       "2  [-1897.95758, -2456.04568, -1806.48732, -2037....   \n",
       "3  [-1897.95758, -2456.04568, -1806.48732, -2037....   \n",
       "4  [None, None, None, None, None, None, None, Non...   \n",
       "\n",
       "                     host_ads_coulomb_energy_average  \\\n",
       "0  [-48125247.078156, -11453496.906323, -11885523...   \n",
       "1  [-48125247.078156, -11453496.906323, -11885523...   \n",
       "2  [-1.3741773467202, -4.4606084937036, -1.066608...   \n",
       "3  [-1.3741773467202, -4.4606084937036, -1.066608...   \n",
       "4  [-0.0050089662458024, 0.0, -0.0048151560685405...   \n",
       "\n",
       "  conversion_factor_molec_uc_to_gr_gr conversion_factor_molec_uc_to_mol_kg  \\\n",
       "0              {'opc3': 2.2118736034}               {'opc3': 0.1227768245}   \n",
       "1              {'opc3': 2.2118736034}               {'opc3': 0.1227768245}   \n",
       "2               {'opc': 2.2118736034}                {'opc': 0.1227768245}   \n",
       "3               {'opc': 2.2118736034}                {'opc': 0.1227768245}   \n",
       "4              {'spce': 2.2118736034}               {'spce': 0.1227768245}   \n",
       "\n",
       "  conversion_factor_molec_uc_to_cm3stp_cm3  \\\n",
       "0                   {'opc3': 1.7685725811}   \n",
       "1                   {'opc3': 1.7685725811}   \n",
       "2                    {'opc': 1.7685725811}   \n",
       "3                    {'opc': 1.7685725811}   \n",
       "4                   {'spce': 1.7685725811}   \n",
       "\n",
       "                                wc_uuid  \\\n",
       "0  3138c0b7-fdb3-4652-b3f2-6a482e4c89fd   \n",
       "1  3138c0b7-fdb3-4652-b3f2-6a482e4c89fd   \n",
       "2  da3e3167-b189-45b1-a1c8-f989671a4f81   \n",
       "3  da3e3167-b189-45b1-a1c8-f989671a4f81   \n",
       "4  08f14ca9-3a46-42a9-8820-3ee763848f7e   \n",
       "\n",
       "                                              System      Component  \\\n",
       "0                                                NaN            NaN   \n",
       "1  {'btdd_cl_hex_cellopt': {'type': 'Framework', ...  {'comp1': {}}   \n",
       "2                                                NaN            NaN   \n",
       "3  {'btdd_cl_hex_cellopt': {'type': 'Framework', ...  {'comp1': {}}   \n",
       "4                                                NaN            NaN   \n",
       "\n",
       "                                     GeneralSettings  \n",
       "0                                                NaN  \n",
       "1  {'CutOff': 13.0, 'Forcefield': 'DREIDING-UFF-O...  \n",
       "2                                                NaN  \n",
       "3  {'CutOff': 13.0, 'Forcefield': 'DREIDING-UFF-O...  \n",
       "4                                                NaN  \n",
       "\n",
       "[5 rows x 63 columns]"
      ]
     },
     "execution_count": 24,
     "metadata": {},
     "output_type": "execute_result"
    }
   ],
   "source": [
    "df.head()"
   ]
  },
  {
   "cell_type": "code",
   "execution_count": 25,
   "metadata": {},
   "outputs": [
    {
     "data": {
      "text/plain": [
       "0       {'opc3': [318.0914, 225.8392, 246.8902, 232.67...\n",
       "1       {'opc3': [318.0914, 225.8392, 246.8902, 232.67...\n",
       "2       {'opc': [0.0914, 0.3155, 0.0813, 0.1084, 0.227...\n",
       "3       {'opc': [0.0914, 0.3155, 0.0813, 0.1084, 0.227...\n",
       "4       {'spce': [0.0002, 0.0, 0.0003, 0.0003, 0.0002,...\n",
       "                              ...                        \n",
       "1177    {'tip5p': [3.75e-05, 3.75e-05, 3.75e-05, 2.5e-...\n",
       "1178    {'tip4p2005': [0.0005375, 0.0003625, 0.0005375...\n",
       "1179    {'tip4p2005': [0.0005375, 0.0003625, 0.0005375...\n",
       "1180    {'tip4p-ew': [0.0009, 0.000725, 0.0009, 0.0006...\n",
       "1181    {'tip4p-ew': [0.0009, 0.000725, 0.0009, 0.0006...\n",
       "Name: loading_absolute_average, Length: 1182, dtype: object"
      ]
     },
     "execution_count": 25,
     "metadata": {},
     "output_type": "execute_result"
    }
   ],
   "source": [
    "df['loading_absolute_average']"
   ]
  },
  {
   "cell_type": "code",
   "execution_count": 83,
   "metadata": {},
   "outputs": [],
   "source": [
    "df_a = df.dropna(subset=['accuracy'])\n",
    "df_b = df.dropna(subset=['GeneralSettings'])"
   ]
  },
  {
   "cell_type": "code",
   "execution_count": 84,
   "metadata": {},
   "outputs": [
    {
     "data": {
      "text/plain": [
       "True"
      ]
     },
     "execution_count": 84,
     "metadata": {},
     "output_type": "execute_result"
    }
   ],
   "source": [
    "len(df_a) == len(df_b)"
   ]
  },
  {
   "cell_type": "code",
   "execution_count": 85,
   "metadata": {},
   "outputs": [
    {
     "name": "stderr",
     "output_type": "stream",
     "text": [
      "/home/kevin/anaconda3/envs/aiida1/lib/python3.6/site-packages/ipykernel_launcher.py:1: SettingWithCopyWarning: \n",
      "A value is trying to be set on a copy of a slice from a DataFrame\n",
      "\n",
      "See the caveats in the documentation: http://pandas.pydata.org/pandas-docs/stable/user_guide/indexing.html#returning-a-view-versus-a-copy\n",
      "  \"\"\"Entry point for launching an IPython kernel.\n"
     ]
    }
   ],
   "source": [
    "df_a.sort_values(by='wc_uuid', inplace=True)"
   ]
  },
  {
   "cell_type": "code",
   "execution_count": 89,
   "metadata": {},
   "outputs": [
    {
     "name": "stderr",
     "output_type": "stream",
     "text": [
      "/home/kevin/anaconda3/envs/aiida1/lib/python3.6/site-packages/ipykernel_launcher.py:1: SettingWithCopyWarning: \n",
      "A value is trying to be set on a copy of a slice from a DataFrame.\n",
      "Try using .loc[row_indexer,col_indexer] = value instead\n",
      "\n",
      "See the caveats in the documentation: http://pandas.pydata.org/pandas-docs/stable/user_guide/indexing.html#returning-a-view-versus-a-copy\n",
      "  \"\"\"Entry point for launching an IPython kernel.\n",
      "/home/kevin/anaconda3/envs/aiida1/lib/python3.6/site-packages/ipykernel_launcher.py:2: SettingWithCopyWarning: \n",
      "A value is trying to be set on a copy of a slice from a DataFrame.\n",
      "Try using .loc[row_indexer,col_indexer] = value instead\n",
      "\n",
      "See the caveats in the documentation: http://pandas.pydata.org/pandas-docs/stable/user_guide/indexing.html#returning-a-view-versus-a-copy\n",
      "  \n",
      "/home/kevin/anaconda3/envs/aiida1/lib/python3.6/site-packages/ipykernel_launcher.py:3: SettingWithCopyWarning: \n",
      "A value is trying to be set on a copy of a slice from a DataFrame.\n",
      "Try using .loc[row_indexer,col_indexer] = value instead\n",
      "\n",
      "See the caveats in the documentation: http://pandas.pydata.org/pandas-docs/stable/user_guide/indexing.html#returning-a-view-versus-a-copy\n",
      "  This is separate from the ipykernel package so we can avoid doing imports until\n"
     ]
    }
   ],
   "source": [
    "df_a['GeneralSettings'] = list(df_b.sort_values(by='wc_uuid')['GeneralSettings'])\n",
    "df_a['Component'] = list(df_b.sort_values(by='wc_uuid')['Component'])\n",
    "df_a['System'] = list(df_b.sort_values(by='wc_uuid')['System'])"
   ]
  },
  {
   "cell_type": "code",
   "execution_count": 180,
   "metadata": {},
   "outputs": [],
   "source": [
    "presssures = df_a['pressure'].unique()"
   ]
  },
  {
   "cell_type": "code",
   "execution_count": 181,
   "metadata": {},
   "outputs": [
    {
     "data": {
      "text/html": [
       "<div>\n",
       "<style scoped>\n",
       "    .dataframe tbody tr th:only-of-type {\n",
       "        vertical-align: middle;\n",
       "    }\n",
       "\n",
       "    .dataframe tbody tr th {\n",
       "        vertical-align: top;\n",
       "    }\n",
       "\n",
       "    .dataframe thead th {\n",
       "        text-align: right;\n",
       "    }\n",
       "</style>\n",
       "<table border=\"1\" class=\"dataframe\">\n",
       "  <thead>\n",
       "    <tr style=\"text-align: right;\">\n",
       "      <th></th>\n",
       "      <th>name</th>\n",
       "      <th>accuracy</th>\n",
       "      <th>sa_samples</th>\n",
       "      <th>block_samples</th>\n",
       "      <th>volpo_samples</th>\n",
       "      <th>gasa</th>\n",
       "      <th>vasa</th>\n",
       "      <th>gnasa</th>\n",
       "      <th>gpoav</th>\n",
       "      <th>vnasa</th>\n",
       "      <th>...</th>\n",
       "      <th>enthalpy_of_adsorption_average</th>\n",
       "      <th>host_ads_coulomb_energy_average</th>\n",
       "      <th>conversion_factor_molec_uc_to_gr_gr</th>\n",
       "      <th>conversion_factor_molec_uc_to_mol_kg</th>\n",
       "      <th>conversion_factor_molec_uc_to_cm3stp_cm3</th>\n",
       "      <th>wc_uuid</th>\n",
       "      <th>System</th>\n",
       "      <th>Component</th>\n",
       "      <th>GeneralSettings</th>\n",
       "      <th>model</th>\n",
       "    </tr>\n",
       "  </thead>\n",
       "  <tbody>\n",
       "    <tr>\n",
       "      <th>1158</th>\n",
       "      <td>dut_4_cellopt</td>\n",
       "      <td>DEF</td>\n",
       "      <td>100000.0</td>\n",
       "      <td>100.0</td>\n",
       "      <td>100000.0</td>\n",
       "      <td>{'spce': 2699.58}</td>\n",
       "      <td>{'spce': 2105.9}</td>\n",
       "      <td>{'spce': 0.0}</td>\n",
       "      <td>{'spce': 0.739162}</td>\n",
       "      <td>{'spce': 0.0}</td>\n",
       "      <td>...</td>\n",
       "      <td>[-1187.95173, -1456.24688, -1190.41406, -1150....</td>\n",
       "      <td>[0.0, 0.0, 0.0, 0.0, 0.0, 0.0, 0.0, 0.0, 0.0, ...</td>\n",
       "      <td>{'spce': 17.5141425398}</td>\n",
       "      <td>{'spce': 0.9721761682}</td>\n",
       "      <td>{'spce': 16.998211633}</td>\n",
       "      <td>00a2f6e2-57bd-4904-9fac-ebccf94cbc95</td>\n",
       "      <td>{'dut_4_cellopt': {'type': 'Framework', 'Exter...</td>\n",
       "      <td>{'comp1': {}}</td>\n",
       "      <td>{'CutOff': 13.0, 'Forcefield': 'DREIDING-UFF-S...</td>\n",
       "      <td>spce</td>\n",
       "    </tr>\n",
       "    <tr>\n",
       "      <th>446</th>\n",
       "      <td>btdd_oh_hex_cellopt</td>\n",
       "      <td>DEF</td>\n",
       "      <td>100000.0</td>\n",
       "      <td>100.0</td>\n",
       "      <td>100000.0</td>\n",
       "      <td>{'opc': 2599.09}</td>\n",
       "      <td>{'opc': 1533.94}</td>\n",
       "      <td>{'opc': 0.0}</td>\n",
       "      <td>{'opc': 1.28984}</td>\n",
       "      <td>{'opc': 0.0}</td>\n",
       "      <td>...</td>\n",
       "      <td>[-4725.65169, -4896.7806, -4929.59152, -5115.2...</td>\n",
       "      <td>[-33.075670875789, -91.375607697441, -134.8815...</td>\n",
       "      <td>{'opc': 2.4082124771}</td>\n",
       "      <td>{'opc': 0.1336752155}</td>\n",
       "      <td>{'opc': 1.7682902288}</td>\n",
       "      <td>01b442b6-c79d-4567-8d50-05d2543f078f</td>\n",
       "      <td>{'btdd_oh_hex_cellopt': {'type': 'Framework', ...</td>\n",
       "      <td>{'comp1': {}}</td>\n",
       "      <td>{'CutOff': 13.0, 'Forcefield': 'DREIDING-UFF-O...</td>\n",
       "      <td>opc</td>\n",
       "    </tr>\n",
       "    <tr>\n",
       "      <th>1162</th>\n",
       "      <td>dut_4_cellopt</td>\n",
       "      <td>DEF</td>\n",
       "      <td>100000.0</td>\n",
       "      <td>100.0</td>\n",
       "      <td>100000.0</td>\n",
       "      <td>{'tip5p': 2699.58}</td>\n",
       "      <td>{'tip5p': 2105.9}</td>\n",
       "      <td>{'tip5p': 0.0}</td>\n",
       "      <td>{'tip5p': 0.739162}</td>\n",
       "      <td>{'tip5p': 0.0}</td>\n",
       "      <td>...</td>\n",
       "      <td>[-1219.64764, -1235.95287, -1187.71023, -1251....</td>\n",
       "      <td>[0.0, 0.0, 0.0, 0.0, 0.0, 0.0, 0.0, 0.0, 0.0, ...</td>\n",
       "      <td>{'tip5p': 17.5141425398}</td>\n",
       "      <td>{'tip5p': 0.9721761682}</td>\n",
       "      <td>{'tip5p': 16.998211633}</td>\n",
       "      <td>01c3a27d-e3ad-4fc0-ab12-d8c1f844c7aa</td>\n",
       "      <td>{'dut_4_cellopt': {'type': 'Framework', 'Exter...</td>\n",
       "      <td>{'comp1': {}}</td>\n",
       "      <td>{'CutOff': 13.0, 'Forcefield': 'DREIDING-UFF-T...</td>\n",
       "      <td>tip5p</td>\n",
       "    </tr>\n",
       "    <tr>\n",
       "      <th>1038</th>\n",
       "      <td>dut_4_cellopt</td>\n",
       "      <td>DEF</td>\n",
       "      <td>100000.0</td>\n",
       "      <td>100.0</td>\n",
       "      <td>100000.0</td>\n",
       "      <td>{'st2': 2699.58}</td>\n",
       "      <td>{'st2': 2105.9}</td>\n",
       "      <td>{'st2': 0.0}</td>\n",
       "      <td>{'st2': 0.739162}</td>\n",
       "      <td>{'st2': 0.0}</td>\n",
       "      <td>...</td>\n",
       "      <td>[-836.57861, -832.56687, -818.78955, -809.3300...</td>\n",
       "      <td>[0.0, 0.0, 0.0, 0.0, 0.0, 0.0, 0.0, 0.0, 0.0, ...</td>\n",
       "      <td>{'st2': 17.5141425398}</td>\n",
       "      <td>{'st2': 0.9721761682}</td>\n",
       "      <td>{'st2': 16.998211633}</td>\n",
       "      <td>0245aa96-4567-4ed8-b74b-c68afe37c781</td>\n",
       "      <td>{'dut_4_cellopt': {'type': 'Framework', 'Exter...</td>\n",
       "      <td>{'comp1': {}}</td>\n",
       "      <td>{'CutOff': 13.0, 'Forcefield': 'DREIDING-UFF-S...</td>\n",
       "      <td>st2</td>\n",
       "    </tr>\n",
       "    <tr>\n",
       "      <th>860</th>\n",
       "      <td>btdd_f_cellopt</td>\n",
       "      <td>DEF</td>\n",
       "      <td>100000.0</td>\n",
       "      <td>100.0</td>\n",
       "      <td>100000.0</td>\n",
       "      <td>{'tip4p2005': 2530.9}</td>\n",
       "      <td>{'tip4p2005': 1533.3}</td>\n",
       "      <td>{'tip4p2005': 0.0}</td>\n",
       "      <td>{'tip4p2005': 1.2608}</td>\n",
       "      <td>{'tip4p2005': 0.0}</td>\n",
       "      <td>...</td>\n",
       "      <td>[-3258.6488, -3478.52609, -3382.19808, -3512.5...</td>\n",
       "      <td>[-4.2581400483983, -4.8851587081902, -4.427638...</td>\n",
       "      <td>{'tip4p2005': 2.3853569844}</td>\n",
       "      <td>{'tip4p2005': 0.1324065513}</td>\n",
       "      <td>{'tip4p2005': 1.7979424571}</td>\n",
       "      <td>025af2c2-6161-4167-a827-0d898bc7aed0</td>\n",
       "      <td>{'btdd_f_cellopt': {'type': 'Framework', 'Exte...</td>\n",
       "      <td>{'comp1': {}}</td>\n",
       "      <td>{'CutOff': 13.0, 'Forcefield': 'DREIDING-UFF-T...</td>\n",
       "      <td>tip4p2005</td>\n",
       "    </tr>\n",
       "  </tbody>\n",
       "</table>\n",
       "<p>5 rows × 64 columns</p>\n",
       "</div>"
      ],
      "text/plain": [
       "                     name accuracy  sa_samples  block_samples  volpo_samples  \\\n",
       "1158        dut_4_cellopt      DEF    100000.0          100.0       100000.0   \n",
       "446   btdd_oh_hex_cellopt      DEF    100000.0          100.0       100000.0   \n",
       "1162        dut_4_cellopt      DEF    100000.0          100.0       100000.0   \n",
       "1038        dut_4_cellopt      DEF    100000.0          100.0       100000.0   \n",
       "860        btdd_f_cellopt      DEF    100000.0          100.0       100000.0   \n",
       "\n",
       "                       gasa                   vasa               gnasa  \\\n",
       "1158      {'spce': 2699.58}       {'spce': 2105.9}       {'spce': 0.0}   \n",
       "446        {'opc': 2599.09}       {'opc': 1533.94}        {'opc': 0.0}   \n",
       "1162     {'tip5p': 2699.58}      {'tip5p': 2105.9}      {'tip5p': 0.0}   \n",
       "1038       {'st2': 2699.58}        {'st2': 2105.9}        {'st2': 0.0}   \n",
       "860   {'tip4p2005': 2530.9}  {'tip4p2005': 1533.3}  {'tip4p2005': 0.0}   \n",
       "\n",
       "                      gpoav               vnasa  ...  \\\n",
       "1158     {'spce': 0.739162}       {'spce': 0.0}  ...   \n",
       "446        {'opc': 1.28984}        {'opc': 0.0}  ...   \n",
       "1162    {'tip5p': 0.739162}      {'tip5p': 0.0}  ...   \n",
       "1038      {'st2': 0.739162}        {'st2': 0.0}  ...   \n",
       "860   {'tip4p2005': 1.2608}  {'tip4p2005': 0.0}  ...   \n",
       "\n",
       "                         enthalpy_of_adsorption_average  \\\n",
       "1158  [-1187.95173, -1456.24688, -1190.41406, -1150....   \n",
       "446   [-4725.65169, -4896.7806, -4929.59152, -5115.2...   \n",
       "1162  [-1219.64764, -1235.95287, -1187.71023, -1251....   \n",
       "1038  [-836.57861, -832.56687, -818.78955, -809.3300...   \n",
       "860   [-3258.6488, -3478.52609, -3382.19808, -3512.5...   \n",
       "\n",
       "                        host_ads_coulomb_energy_average  \\\n",
       "1158  [0.0, 0.0, 0.0, 0.0, 0.0, 0.0, 0.0, 0.0, 0.0, ...   \n",
       "446   [-33.075670875789, -91.375607697441, -134.8815...   \n",
       "1162  [0.0, 0.0, 0.0, 0.0, 0.0, 0.0, 0.0, 0.0, 0.0, ...   \n",
       "1038  [0.0, 0.0, 0.0, 0.0, 0.0, 0.0, 0.0, 0.0, 0.0, ...   \n",
       "860   [-4.2581400483983, -4.8851587081902, -4.427638...   \n",
       "\n",
       "     conversion_factor_molec_uc_to_gr_gr conversion_factor_molec_uc_to_mol_kg  \\\n",
       "1158             {'spce': 17.5141425398}               {'spce': 0.9721761682}   \n",
       "446                {'opc': 2.4082124771}                {'opc': 0.1336752155}   \n",
       "1162            {'tip5p': 17.5141425398}              {'tip5p': 0.9721761682}   \n",
       "1038              {'st2': 17.5141425398}                {'st2': 0.9721761682}   \n",
       "860          {'tip4p2005': 2.3853569844}          {'tip4p2005': 0.1324065513}   \n",
       "\n",
       "     conversion_factor_molec_uc_to_cm3stp_cm3  \\\n",
       "1158                   {'spce': 16.998211633}   \n",
       "446                     {'opc': 1.7682902288}   \n",
       "1162                  {'tip5p': 16.998211633}   \n",
       "1038                    {'st2': 16.998211633}   \n",
       "860               {'tip4p2005': 1.7979424571}   \n",
       "\n",
       "                                   wc_uuid  \\\n",
       "1158  00a2f6e2-57bd-4904-9fac-ebccf94cbc95   \n",
       "446   01b442b6-c79d-4567-8d50-05d2543f078f   \n",
       "1162  01c3a27d-e3ad-4fc0-ab12-d8c1f844c7aa   \n",
       "1038  0245aa96-4567-4ed8-b74b-c68afe37c781   \n",
       "860   025af2c2-6161-4167-a827-0d898bc7aed0   \n",
       "\n",
       "                                                 System      Component  \\\n",
       "1158  {'dut_4_cellopt': {'type': 'Framework', 'Exter...  {'comp1': {}}   \n",
       "446   {'btdd_oh_hex_cellopt': {'type': 'Framework', ...  {'comp1': {}}   \n",
       "1162  {'dut_4_cellopt': {'type': 'Framework', 'Exter...  {'comp1': {}}   \n",
       "1038  {'dut_4_cellopt': {'type': 'Framework', 'Exter...  {'comp1': {}}   \n",
       "860   {'btdd_f_cellopt': {'type': 'Framework', 'Exte...  {'comp1': {}}   \n",
       "\n",
       "                                        GeneralSettings      model  \n",
       "1158  {'CutOff': 13.0, 'Forcefield': 'DREIDING-UFF-S...       spce  \n",
       "446   {'CutOff': 13.0, 'Forcefield': 'DREIDING-UFF-O...        opc  \n",
       "1162  {'CutOff': 13.0, 'Forcefield': 'DREIDING-UFF-T...      tip5p  \n",
       "1038  {'CutOff': 13.0, 'Forcefield': 'DREIDING-UFF-S...        st2  \n",
       "860   {'CutOff': 13.0, 'Forcefield': 'DREIDING-UFF-T...  tip4p2005  \n",
       "\n",
       "[5 rows x 64 columns]"
      ]
     },
     "execution_count": 181,
     "metadata": {},
     "output_type": "execute_result"
    }
   ],
   "source": [
    "df_a.head()"
   ]
  },
  {
   "cell_type": "code",
   "execution_count": 182,
   "metadata": {},
   "outputs": [
    {
     "data": {
      "text/plain": [
       "Index(['name', 'accuracy', 'sa_samples', 'block_samples', 'volpo_samples',\n",
       "       'gasa', 'vasa', 'gnasa', 'gpoav', 'vnasa', 'density', 'pressure',\n",
       "       'gasa_unit', 'vasa_unit', 'gnasa_unit', 'gpoav_unit', 'vnasa_unit',\n",
       "       'temperature', 'density_unit', 'mol_fraction', 'poav_fraction',\n",
       "       'pressure_unit', 'ponav_fraction', 'uc_multipliers', 'temperature_unit',\n",
       "       'total_energy_dev', 'pocket_surface_area', 'channel_surface_area',\n",
       "       'loading_absolute_dev', 'total_energy_average', 'adsorbate_density_dev',\n",
       "       'ads_ads_vdw_energy_dev', 'loading_absolute_units',\n",
       "       'adsorbate_density_units', 'host_ads_vdw_energy_dev',\n",
       "       'number_blocking_spheres', 'ads_ads_total_energy_dev',\n",
       "       'host_ads_vdw_energy_unit', 'loading_absolute_average',\n",
       "       'pocket_surface_area_unit', 'adsorbate_density_average',\n",
       "       'channel_surface_area_unit', 'host_ads_total_energy_dev',\n",
       "       'total_energy_average_unit', 'ads_ads_coulomb_energy_dev',\n",
       "       'ads_ads_vdw_energy_average', 'enthalpy_of_adsorption_dev',\n",
       "       'host_ads_total_energy_unit', 'enthalpy_of_adsorption_unit',\n",
       "       'host_ads_coulomb_energy_dev', 'host_ads_vdw_energy_average',\n",
       "       'ads_ads_total_energy_average', 'host_ads_total_energy_average',\n",
       "       'ads_ads_coulomb_energy_average', 'enthalpy_of_adsorption_average',\n",
       "       'host_ads_coulomb_energy_average',\n",
       "       'conversion_factor_molec_uc_to_gr_gr',\n",
       "       'conversion_factor_molec_uc_to_mol_kg',\n",
       "       'conversion_factor_molec_uc_to_cm3stp_cm3', 'wc_uuid', 'System',\n",
       "       'Component', 'GeneralSettings', 'model'],\n",
       "      dtype='object')"
      ]
     },
     "execution_count": 182,
     "metadata": {},
     "output_type": "execute_result"
    }
   ],
   "source": [
    "df_a.columns"
   ]
  },
  {
   "cell_type": "code",
   "execution_count": 183,
   "metadata": {},
   "outputs": [],
   "source": [
    "names = df_a['name'].unique()"
   ]
  },
  {
   "cell_type": "code",
   "execution_count": 184,
   "metadata": {},
   "outputs": [],
   "source": [
    "model_name_colum = []\n",
    "\n",
    "for i, row in df_a.iterrows():\n",
    "    model_name_colum.append(list(row['gasa'].keys())[0])"
   ]
  },
  {
   "cell_type": "code",
   "execution_count": 185,
   "metadata": {},
   "outputs": [
    {
     "name": "stderr",
     "output_type": "stream",
     "text": [
      "/home/kevin/anaconda3/envs/aiida1/lib/python3.6/site-packages/ipykernel_launcher.py:1: SettingWithCopyWarning: \n",
      "A value is trying to be set on a copy of a slice from a DataFrame.\n",
      "Try using .loc[row_indexer,col_indexer] = value instead\n",
      "\n",
      "See the caveats in the documentation: http://pandas.pydata.org/pandas-docs/stable/user_guide/indexing.html#returning-a-view-versus-a-copy\n",
      "  \"\"\"Entry point for launching an IPython kernel.\n"
     ]
    }
   ],
   "source": [
    "df_a['model'] = model_name_colum\n",
    "models = df_a['model'].unique()"
   ]
  },
  {
   "cell_type": "markdown",
   "metadata": {},
   "source": [
    "## Now create the isotherms "
   ]
  },
  {
   "cell_type": "code",
   "execution_count": 206,
   "metadata": {},
   "outputs": [],
   "source": [
    "import matplotlib.pyplot as plt\n",
    "%matplotlib inline\n",
    "import numpy as np"
   ]
  },
  {
   "cell_type": "markdown",
   "metadata": {},
   "source": [
    "As a first check, we will only plot the last loading. Later, we can still do averaging. "
   ]
  },
  {
   "cell_type": "code",
   "execution_count": 187,
   "metadata": {},
   "outputs": [],
   "source": [
    "isothermdict = {}\n",
    "\n",
    "for name in names: \n",
    "    isothermdict[name] = {}\n",
    "    for model in models:\n",
    "        isothermdict[name][model] = {}\n",
    "        for pressure in presssures:\n",
    "            try:\n",
    "                loading =  df_a[(df_a['name']==name) & (df_a['model'] == model) &\n",
    "                                 (df_a['pressure']==pressure)\n",
    "                                ]['loading_absolute_average'].values[0][model][-1]\n",
    "                if loading:\n",
    "                    isothermdict[name][model][pressure] = loading\n",
    "            except Exception:\n",
    "                pass\n",
    "        "
   ]
  },
  {
   "cell_type": "code",
   "execution_count": 217,
   "metadata": {},
   "outputs": [
    {
     "data": {
      "text/plain": [
       "{'tip7p': [2.0926716321,\n",
       "  2.7427542362,\n",
       "  5.6511885334,\n",
       "  1.7368037771,\n",
       "  3.3297049479,\n",
       "  2.1324943517,\n",
       "  6.2835130811,\n",
       "  2.9514603843,\n",
       "  4.0443237457,\n",
       "  3.2656852022,\n",
       "  5.0896351775,\n",
       "  2.3019019614,\n",
       "  2.4894656133,\n",
       "  2.4275285869,\n",
       "  2.3762251072,\n",
       "  2.4567208714,\n",
       "  2.3659773118]}"
      ]
     },
     "execution_count": 217,
     "metadata": {},
     "output_type": "execute_result"
    }
   ],
   "source": [
    "df_a[(df_a['name']=='mil_160') & (df_a['model'] == 'tip7p') ]['loading_absolute_dev'].iloc[-1]"
   ]
  },
  {
   "cell_type": "markdown",
   "metadata": {},
   "source": [
    "### MIL-160"
   ]
  },
  {
   "cell_type": "code",
   "execution_count": 188,
   "metadata": {},
   "outputs": [
    {
     "data": {
      "text/plain": [
       "{0.002: 1.7942,\n",
       " 0.004: 3.994,\n",
       " 0.006: 4.8864,\n",
       " 0.016: 22.112,\n",
       " 0.0001: 0.068,\n",
       " 0.018: 521.2476,\n",
       " 0.03: 540.2592,\n",
       " 0.026: 537.1848,\n",
       " 0.011: 26.5058}"
      ]
     },
     "execution_count": 188,
     "metadata": {},
     "output_type": "execute_result"
    }
   ],
   "source": [
    "isothermdict['mil_160']['spce']"
   ]
  },
  {
   "cell_type": "code",
   "execution_count": 212,
   "metadata": {},
   "outputs": [
    {
     "name": "stdout",
     "output_type": "stream",
     "text": [
      "spce\n",
      "opc\n",
      "tip5p\n",
      "st2\n",
      "tip4p2005\n",
      "tip7p\n",
      "opc3\n",
      "tip3p\n",
      "tip4p-ew\n"
     ]
    },
    {
     "data": {
      "image/png": "[encoded data removed]",
      "text/plain": [
       "<Figure size 432x288 with 1 Axes>"
      ]
     },
     "metadata": {
      "needs_background": "light"
     },
     "output_type": "display_data"
    }
   ],
   "source": [
    "for model in isothermdict['mil_160'].keys():\n",
    "    print(model)\n",
    "    p = list(isothermdict['mil_160'][model].keys())\n",
    "    l = list(isothermdict['mil_160'][model].values())\n",
    "    pl = list(zip(p, l))\n",
    "    pl.sort()\n",
    "    p = [x for x,y in pl]\n",
    "    l = [y for x,y in pl]\n",
    "    if len(p) > 2:\n",
    "        p = np.array(p)\n",
    "        p /= np.max(p)\n",
    "        plt.plot(p, l)\n",
    "        plt.scatter(p, l, label=model)\n",
    "        plt.legend()"
   ]
  },
  {
   "cell_type": "code",
   "execution_count": 203,
   "metadata": {},
   "outputs": [
    {
     "name": "stdout",
     "output_type": "stream",
     "text": [
      "spce\n",
      "opc\n",
      "tip5p\n",
      "st2\n",
      "tip4p2005\n",
      "tip7p\n",
      "opc3\n",
      "tip3p\n",
      "tip4p-ew\n"
     ]
    },
    {
     "data": {
      "image/png": "[encoded data removed]",
      "text/plain": [
       "<Figure size 432x288 with 1 Axes>"
      ]
     },
     "metadata": {
      "needs_background": "light"
     },
     "output_type": "display_data"
    }
   ],
   "source": [
    "for model in isothermdict['btdd_cl_hex_cellopt'].keys():\n",
    "    print(model)\n",
    "    p = list(isothermdict['btdd_cl_hex_cellopt'][model].keys())\n",
    "    l = list(isothermdict['btdd_cl_hex_cellopt'][model].values())\n",
    "    pl = list(zip(p, l))\n",
    "    pl.sort()\n",
    "    p = [x for x,y in pl]\n",
    "    l = [y for x,y in pl]\n",
    "    plt.plot(p, l)\n",
    "    plt.scatter(p, l, label=model)\n",
    "    plt.legend()\n",
    "    plt.ylim(0,1)"
   ]
  },
  {
   "cell_type": "code",
   "execution_count": null,
   "metadata": {},
   "outputs": [],
   "source": []
  }
 ],
 "metadata": {
  "kernelspec": {
   "display_name": "Python 3",
   "language": "python",
   "name": "python3"
  },
  "language_info": {
   "codemirror_mode": {
    "name": "ipython",
    "version": 3
   },
   "file_extension": ".py",
   "mimetype": "text/x-python",
   "name": "python",
   "nbconvert_exporter": "python",
   "pygments_lexer": "ipython3",
   "version": "3.6.9"
  }
 },
 "nbformat": 4,
 "nbformat_minor": 4
}
